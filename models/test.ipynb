{
 "cells": [
  {
   "cell_type": "code",
   "execution_count": null,
   "metadata": {
    "collapsed": true
   },
   "outputs": [],
   "source": [
    "import torch\n",
    "import math\n",
    "max_len=5000\n",
    "d_model=512\n",
    "pe = torch.zeros(max_len, d_model).float()#pe:max len*d_model=5000*512\n",
    "pe.require_grad = False\n",
    "\n",
    "position = torch.arange(0, max_len).float().unsqueeze(1)#integer: 1-5000;\n",
    "div_term = (torch.arange(0, d_model, 2).float() * -(math.log(10000.0) / d_model)).exp()#256"
   ]
  },
  {
   "cell_type": "code",
   "execution_count": 26,
   "outputs": [
    {
     "data": {
      "text/plain": "tensor([  0.,   2.,   4.,   6.,   8.,  10.,  12.,  14.,  16.,  18.,  20.,  22.,\n         24.,  26.,  28.,  30.,  32.,  34.,  36.,  38.,  40.,  42.,  44.,  46.,\n         48.,  50.,  52.,  54.,  56.,  58.,  60.,  62.,  64.,  66.,  68.,  70.,\n         72.,  74.,  76.,  78.,  80.,  82.,  84.,  86.,  88.,  90.,  92.,  94.,\n         96.,  98., 100., 102., 104., 106., 108., 110., 112., 114., 116., 118.,\n        120., 122., 124., 126., 128., 130., 132., 134., 136., 138., 140., 142.,\n        144., 146., 148., 150., 152., 154., 156., 158., 160., 162., 164., 166.,\n        168., 170., 172., 174., 176., 178., 180., 182., 184., 186., 188., 190.,\n        192., 194., 196., 198., 200., 202., 204., 206., 208., 210., 212., 214.,\n        216., 218., 220., 222., 224., 226., 228., 230., 232., 234., 236., 238.,\n        240., 242., 244., 246., 248., 250., 252., 254., 256., 258., 260., 262.,\n        264., 266., 268., 270., 272., 274., 276., 278., 280., 282., 284., 286.,\n        288., 290., 292., 294., 296., 298., 300., 302., 304., 306., 308., 310.,\n        312., 314., 316., 318., 320., 322., 324., 326., 328., 330., 332., 334.,\n        336., 338., 340., 342., 344., 346., 348., 350., 352., 354., 356., 358.,\n        360., 362., 364., 366., 368., 370., 372., 374., 376., 378., 380., 382.,\n        384., 386., 388., 390., 392., 394., 396., 398., 400., 402., 404., 406.,\n        408., 410., 412., 414., 416., 418., 420., 422., 424., 426., 428., 430.,\n        432., 434., 436., 438., 440., 442., 444., 446., 448., 450., 452., 454.,\n        456., 458., 460., 462., 464., 466., 468., 470., 472., 474., 476., 478.,\n        480., 482., 484., 486., 488., 490., 492., 494., 496., 498., 500., 502.,\n        504., 506., 508., 510.])"
     },
     "execution_count": 26,
     "metadata": {},
     "output_type": "execute_result"
    }
   ],
   "source": [
    "def fftTransfer(timeseries, n=10, fmin=0.2):\n",
    "    import pandas as pd\n",
    "    import numpy as np\n",
    "    import math\n",
    "    from scipy.fftpack import fft, ifft\n",
    "    import matplotlib.pyplot as plt\n",
    "    import seaborn\n",
    "    import scipy.signal as signal\n",
    "\n",
    "    yf = abs(fft(timeseries))  # 取绝对值\n",
    "    yfnormlize = yf / len(timeseries)  # 归一化处理\n",
    "    yfhalf = yfnormlize[range(int(len(timeseries) / 2))]  # 由于对称性，只取一半区间\n",
    "    yfhalf = yfhalf * 2  # y 归一化\n",
    "\n",
    "    xf = np.arange(len(timeseries))  # 频率\n",
    "    xhalf = xf[range(int(len(timeseries) / 2))]  # 取一半区间\n",
    "\n",
    "    #     plt.subplot(212)\n",
    "    #     plt.plot(xhalf, yfhalf, 'r')\n",
    "    #     plt.title('FFT of Mixed wave(half side frequency range)', fontsize=10, color='#7A378B')  # 注意这里的颜色可以查询颜色代码表\n",
    "\n",
    "    fwbest = yfhalf[signal.argrelextrema(yfhalf, np.greater)]  # Amplitude\n",
    "    xwbest = signal.argrelextrema(yfhalf, np.greater)  # Frequency\n",
    "    #     plt.plot(xwbest[0][:n], fwbest[:n], 'o', c='yellow')\n",
    "    #     plt.show(block=False)\n",
    "    #     plt.show()\n",
    "\n",
    "    xorder = np.argsort(-fwbest)  # 对获取到的极值进行降序排序，也就是频率越接近，越排前\n",
    "    print('xorder = ', xorder)\n",
    "    xworder = list()\n",
    "    xworder.append(xwbest[x] for x in xorder)  # 返回频率从大到小的极值顺序\n",
    "    fworder = list()\n",
    "    fworder.append(fwbest[x] for x in xorder)  # 返回幅度\n",
    "\n",
    "    if len(fwbest) <= n:\n",
    "        fwbest = fwbest[fwbest >= fmin].copy()\n",
    "\n",
    "        return len(timeseries) / xwbest[0][:len(fwbest)], fwbest  # 转化为周期输出\n",
    "    else:\n",
    "        fwbest = fwbest[fwbest >= fmin].copy()\n",
    "        print(len(fwbest))\n",
    "        print('xwbest', xwbest)\n",
    "        return len(timeseries) / xwbest[0][:len(fwbest)], fwbest  # 只返回前n个数   #转化为周期输出\n",
    "\n",
    "y=pd.read_csv(\"ETTh1\")\n",
    "y=y.iloc[:,3];\n",
    "y=y.values\n",
    "x,y=fftTransfer(y,n=5,fmin = 0.015)                     #快速傅里叶变换\n",
    "print('x = ',x)    #周期\n",
    "print('y = ',y)    #周期对应的增幅，也就是权重\n",
    "fftTransfer(y,n=5,fmin = 0.015)\n",
    "\n"
   ],
   "metadata": {
    "collapsed": false
   }
  },
  {
   "cell_type": "code",
   "execution_count": 31,
   "outputs": [
    {
     "data": {
      "text/plain": "-9.210340371976184"
     },
     "execution_count": 31,
     "metadata": {},
     "output_type": "execute_result"
    }
   ],
   "source": [
    "-math.log(10000.0)"
   ],
   "metadata": {
    "collapsed": false
   }
  },
  {
   "cell_type": "code",
   "execution_count": 23,
   "outputs": [],
   "source": [
    "a=position*div_term"
   ],
   "metadata": {
    "collapsed": false
   }
  },
  {
   "cell_type": "code",
   "execution_count": 24,
   "outputs": [],
   "source": [
    "pe[:, 0::2] = torch.sin(position * div_term)\n"
   ],
   "metadata": {
    "collapsed": false
   }
  },
  {
   "cell_type": "code",
   "execution_count": 25,
   "outputs": [
    {
     "name": "stdout",
     "output_type": "stream",
     "text": [
      "torch.Size([1, 5000, 512])\n"
     ]
    }
   ],
   "source": [
    "pe[:, 1::2] = torch.cos(position * div_term)\n",
    "pe = pe.unsqueeze(0)\n",
    "print(pe.shape)\n"
   ],
   "metadata": {
    "collapsed": false
   }
  },
  {
   "cell_type": "code",
   "execution_count": 2,
   "outputs": [],
   "source": [
    "Amp_eli=[0.1463,1.32]\n",
    "P_eli=[46.26,32.3]\n",
    "L_K=96\n",
    "import numpy as np\n",
    "import math\n",
    "j = 0\n",
    "index_K1 = []\n",
    "Amp_K1=[]\n",
    "Amp_K2 = []\n",
    "Amp_K3 = []\n",
    "for i in range(math.ceil(L_K / P_eli[j])):\n",
    "    if (L_K - (i + 1) * P_eli[j]) >= 0:\n",
    "        index_K1.append(L_K - (i + 1) * P_eli[j])\n",
    "index_K1 = list(reversed(index_K1))\n",
    "Amp_K1=[Amp_eli[0] for x in range (len(index_K1))]"
   ],
   "metadata": {
    "collapsed": false
   }
  },
  {
   "cell_type": "code",
   "execution_count": 3,
   "outputs": [],
   "source": [
    "##Test code.\n",
    "\n",
    "Amp_eli=[0.1463,1.32]\n",
    "P_eli=[46.26,32.3]\n",
    "L_K=96\n",
    "import numpy as np\n",
    "import math\n",
    "j = len(Amp_eli)"
   ],
   "metadata": {
    "collapsed": false
   }
  },
  {
   "cell_type": "code",
   "execution_count": 10,
   "outputs": [
    {
     "name": "stdout",
     "output_type": "stream",
     "text": [
      "[49.74, 3.480000000000004, 63.7, 31.400000000000006]\n",
      "[0.1463, 0.1463, 1.32, 1.32]\n"
     ]
    }
   ],
   "source": [
    "\n",
    "Amp_eli=[0.1463,1.32]\n",
    "P_eli=[46.26,32.3]\n",
    "index_K = []\n",
    "Amp_K=[]\n",
    "for j in range(len(Amp_eli)):\n",
    "    for i in range(math.ceil(L_K / P_eli[j])):\n",
    "         if (L_K - (i + 1) * P_eli[j]) >= 0:\n",
    "              index_K.append(L_K - (i + 1) * P_eli[j])\n",
    "              Amp_K.append(Amp_eli[j])\n",
    "print(index_K)\n",
    "print(Amp_K)\n",
    "#index_K = list(reversed(index_K))\n",
    "#Amp_K=[Amp_eli[0] for x in range (len(index_K))]"
   ],
   "metadata": {
    "collapsed": false
   }
  },
  {
   "cell_type": "code",
   "execution_count": 5,
   "outputs": [
    {
     "name": "stdout",
     "output_type": "stream",
     "text": [
      "[31.400000000000006, 63.7, 3.480000000000004, 49.74]\n",
      "[0.1463, 0.1463, 0.1463, 0.1463]\n"
     ]
    }
   ],
   "source": [
    "print(index_K)\n",
    "print(Amp_K)"
   ],
   "metadata": {
    "collapsed": false
   }
  }
 ],
 "metadata": {
  "kernelspec": {
   "display_name": "Python 3",
   "language": "python",
   "name": "python3"
  },
  "language_info": {
   "codemirror_mode": {
    "name": "ipython",
    "version": 2
   },
   "file_extension": ".py",
   "mimetype": "text/x-python",
   "name": "python",
   "nbconvert_exporter": "python",
   "pygments_lexer": "ipython2",
   "version": "2.7.6"
  }
 },
 "nbformat": 4,
 "nbformat_minor": 0
}
